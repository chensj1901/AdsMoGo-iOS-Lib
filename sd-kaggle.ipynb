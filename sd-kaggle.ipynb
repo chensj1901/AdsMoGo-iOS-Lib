{
 "cells": [
  {
   "cell_type": "code",
   "execution_count": 1,
   "id": "128494c4",
   "metadata": {
    "execution": {
     "iopub.execute_input": "2023-06-09T02:36:46.364311Z",
     "iopub.status.busy": "2023-06-09T02:36:46.363481Z",
     "iopub.status.idle": "2023-06-09T02:38:47.213200Z",
     "shell.execute_reply": "2023-06-09T02:38:47.211428Z"
    },
    "papermill": {
     "duration": 120.859648,
     "end_time": "2023-06-09T02:38:47.217140",
     "exception": false,
     "start_time": "2023-06-09T02:36:46.357492",
     "status": "completed"
    },
    "tags": []
   },
   "outputs": [],
   "source": [
    "!cp -r /kaggle/input/stable-diffusion-webui /kaggle/working/\n",
    "!cp /kaggle/input/stablediffusion/final-pruned.ckpt /kaggle/working/stable-diffusion-webui/models/Stable-diffusion/\n",
    "!cp /kaggle/input/stablediffusion/final-pruned.vae.pt /kaggle/working/stable-diffusion-webui/models/Stable-diffusion/"
   ]
  },
  {
   "cell_type": "code",
   "execution_count": 2,
   "id": "275df577",
   "metadata": {
    "execution": {
     "iopub.execute_input": "2023-06-09T02:38:47.226124Z",
     "iopub.status.busy": "2023-06-09T02:38:47.225532Z",
     "iopub.status.idle": "2023-06-09T02:38:48.327374Z",
     "shell.execute_reply": "2023-06-09T02:38:48.325697Z"
    },
    "papermill": {
     "duration": 1.109993,
     "end_time": "2023-06-09T02:38:48.330466",
     "exception": false,
     "start_time": "2023-06-09T02:38:47.220473",
     "status": "completed"
    },
    "tags": []
   },
   "outputs": [
    {
     "name": "stdout",
     "output_type": "stream",
     "text": [
      "'Put Stable Diffusion checkpoints here.txt'   final-pruned.vae.pt\r\n",
      " final-pruned.ckpt\r\n"
     ]
    }
   ],
   "source": [
    "!ls /kaggle/working/stable-diffusion-webui/models/Stable-diffusion/"
   ]
  },
  {
   "cell_type": "code",
   "execution_count": 3,
   "id": "50744739",
   "metadata": {
    "execution": {
     "iopub.execute_input": "2023-06-09T02:38:48.338403Z",
     "iopub.status.busy": "2023-06-09T02:38:48.337873Z",
     "iopub.status.idle": "2023-06-09T02:38:48.344563Z",
     "shell.execute_reply": "2023-06-09T02:38:48.343413Z"
    },
    "papermill": {
     "duration": 0.013997,
     "end_time": "2023-06-09T02:38:48.347371",
     "exception": false,
     "start_time": "2023-06-09T02:38:48.333374",
     "status": "completed"
    },
    "tags": []
   },
   "outputs": [
    {
     "name": "stdout",
     "output_type": "stream",
     "text": [
      "Working directory /kaggle/working/stable-diffusion-webui\n"
     ]
    }
   ],
   "source": [
    "import os\n",
    "os.chdir('/kaggle/working/stable-diffusion-webui')\n",
    "retval = os.getcwd()\n",
    "print(\"Working directory %s\" % retval)"
   ]
  },
  {
   "cell_type": "code",
   "execution_count": 4,
   "id": "39d64955",
   "metadata": {
    "execution": {
     "iopub.execute_input": "2023-06-09T02:38:48.354678Z",
     "iopub.status.busy": "2023-06-09T02:38:48.354191Z",
     "iopub.status.idle": "2023-06-09T02:41:19.431485Z",
     "shell.execute_reply": "2023-06-09T02:41:19.428943Z"
    },
    "papermill": {
     "duration": 151.085537,
     "end_time": "2023-06-09T02:41:19.435577",
     "exception": false,
     "start_time": "2023-06-09T02:38:48.350040",
     "status": "completed"
    },
    "tags": []
   },
   "outputs": [
    {
     "name": "stdout",
     "output_type": "stream",
     "text": [
      "fatal: not a git repository (or any parent up to mount point /kaggle)\r\n",
      "Stopping at filesystem boundary (GIT_DISCOVERY_ACROSS_FILESYSTEM not set).\r\n",
      "fatal: not a git repository (or any parent up to mount point /kaggle)\r\n",
      "Stopping at filesystem boundary (GIT_DISCOVERY_ACROSS_FILESYSTEM not set).\r\n",
      "Python 3.7.12 | packaged by conda-forge | (default, Oct 26 2021, 06:08:53) \r\n",
      "[GCC 9.4.0]\r\n",
      "Version: <none>\r\n",
      "Commit hash: <none>\r\n",
      "Installing gfpgan\r\n",
      "Traceback (most recent call last):\r\n",
      "  File \"launch.py\", line 38, in <module>\r\n",
      "    main()\r\n",
      "  File \"launch.py\", line 29, in main\r\n",
      "    prepare_environment()\r\n",
      "  File \"/kaggle/working/stable-diffusion-webui/modules/launch_utils.py\", line 263, in prepare_environment\r\n",
      "    run_pip(f\"install {gfpgan_package}\", \"gfpgan\")\r\n",
      "  File \"/kaggle/working/stable-diffusion-webui/modules/launch_utils.py\", line 124, in run_pip\r\n",
      "    return run(f'\"{python}\" -m pip {command} --prefer-binary{index_url_line}', desc=f\"Installing {desc}\", errdesc=f\"Couldn't install {desc}\", live=live)\r\n",
      "  File \"/kaggle/working/stable-diffusion-webui/modules/launch_utils.py\", line 101, in run\r\n",
      "    raise RuntimeError(\"\\n\".join(error_bits))\r\n",
      "RuntimeError: Couldn't install gfpgan.\r\n",
      "Command: \"/opt/conda/bin/python\" -m pip install https://github.com/TencentARC/GFPGAN/archive/8d2447a2d918f8eba5a4a01463fd48e45126a379.zip --prefer-binary\r\n",
      "Error code: 1\r\n",
      "stdout: Collecting https://github.com/TencentARC/GFPGAN/archive/8d2447a2d918f8eba5a4a01463fd48e45126a379.zip\r\n",
      "\r\n",
      "stderr:   WARNING: Retrying (Retry(total=4, connect=None, read=None, redirect=None, status=None)) after connection broken by 'NewConnectionError('<pip._vendor.urllib3.connection.HTTPSConnection object at 0x7d066cf5cd90>: Failed to establish a new connection: [Errno -3] Temporary failure in name resolution')': /TencentARC/GFPGAN/archive/8d2447a2d918f8eba5a4a01463fd48e45126a379.zip\r\n",
      "  WARNING: Retrying (Retry(total=3, connect=None, read=None, redirect=None, status=None)) after connection broken by 'NewConnectionError('<pip._vendor.urllib3.connection.HTTPSConnection object at 0x7d066cf5c710>: Failed to establish a new connection: [Errno -3] Temporary failure in name resolution')': /TencentARC/GFPGAN/archive/8d2447a2d918f8eba5a4a01463fd48e45126a379.zip\r\n",
      "  WARNING: Retrying (Retry(total=2, connect=None, read=None, redirect=None, status=None)) after connection broken by 'NewConnectionError('<pip._vendor.urllib3.connection.HTTPSConnection object at 0x7d066cfa0150>: Failed to establish a new connection: [Errno -3] Temporary failure in name resolution')': /TencentARC/GFPGAN/archive/8d2447a2d918f8eba5a4a01463fd48e45126a379.zip\r\n",
      "  WARNING: Retrying (Retry(total=1, connect=None, read=None, redirect=None, status=None)) after connection broken by 'NewConnectionError('<pip._vendor.urllib3.connection.HTTPSConnection object at 0x7d066cfa0110>: Failed to establish a new connection: [Errno -3] Temporary failure in name resolution')': /TencentARC/GFPGAN/archive/8d2447a2d918f8eba5a4a01463fd48e45126a379.zip\r\n",
      "  WARNING: Retrying (Retry(total=0, connect=None, read=None, redirect=None, status=None)) after connection broken by 'NewConnectionError('<pip._vendor.urllib3.connection.HTTPSConnection object at 0x7d066cfa0410>: Failed to establish a new connection: [Errno -3] Temporary failure in name resolution')': /TencentARC/GFPGAN/archive/8d2447a2d918f8eba5a4a01463fd48e45126a379.zip\r\n",
      "ERROR: Could not install packages due to an OSError: HTTPSConnectionPool(host='github.com', port=443): Max retries exceeded with url: /TencentARC/GFPGAN/archive/8d2447a2d918f8eba5a4a01463fd48e45126a379.zip (Caused by NewConnectionError('<pip._vendor.urllib3.connection.HTTPSConnection object at 0x7d066cfa0710>: Failed to establish a new connection: [Errno -3] Temporary failure in name resolution'))\r\n",
      "\r\n",
      "WARNING: There was an error checking the latest version of pip.\r\n",
      "\r\n"
     ]
    }
   ],
   "source": [
    "#                                                       me:1111 为你的账号：密码 建议自行更改\n",
    "!COMMANDLINE_ARGS=\"--share --disable-safe-unpickle --gradio-debug --gradio-auth me:1111 --skip-torch-cuda-test\" REQS_FILE=\"requirements.txt\" python launch.py"
   ]
  }
 ],
 "metadata": {
  "kernelspec": {
   "display_name": "Python 3",
   "language": "python",
   "name": "python3"
  },
  "language_info": {
   "codemirror_mode": {
    "name": "ipython",
    "version": 3
   },
   "file_extension": ".py",
   "mimetype": "text/x-python",
   "name": "python",
   "nbconvert_exporter": "python",
   "pygments_lexer": "ipython3",
   "version": "3.7.12"
  },
  "papermill": {
   "default_parameters": {},
   "duration": 285.411215,
   "end_time": "2023-06-09T02:41:20.470596",
   "environment_variables": {},
   "exception": null,
   "input_path": "__notebook__.ipynb",
   "output_path": "__notebook__.ipynb",
   "parameters": {},
   "start_time": "2023-06-09T02:36:35.059381",
   "version": "2.3.4"
  }
 },
 "nbformat": 4,
 "nbformat_minor": 5
}
